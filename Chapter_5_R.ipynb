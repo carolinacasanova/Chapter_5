{
  "nbformat": 4,
  "nbformat_minor": 0,
  "metadata": {
    "colab": {
      "name": "Chapter_5.R",
      "provenance": [],
      "authorship_tag": "ABX9TyNVUn4dUuQ76tOHfC7VwdfH",
      "include_colab_link": true
    },
    "kernelspec": {
      "name": "ir",
      "display_name": "R"
    }
  },
  "cells": [
    {
      "cell_type": "markdown",
      "metadata": {
        "id": "view-in-github",
        "colab_type": "text"
      },
      "source": [
        "<a href=\"https://colab.research.google.com/github/carolinacasanova/Chapter_5/blob/master/Chapter_5_R.ipynb\" target=\"_parent\"><img src=\"https://colab.research.google.com/assets/colab-badge.svg\" alt=\"Open In Colab\"/></a>"
      ]
    },
    {
      "cell_type": "markdown",
      "metadata": {
        "id": "SUk15okD91WF",
        "colab_type": "text"
      },
      "source": [
        "Chapter 5: Classification using Decision Trees and Rules\n",
        "\n",
        "This chapter focuses on two machine learning classification methods decision trees and rule learners. Both mothods help to make complex decisions from sets of simple choices, by dividing data into segments. \n",
        "\n"
      ]
    }
  ]
}